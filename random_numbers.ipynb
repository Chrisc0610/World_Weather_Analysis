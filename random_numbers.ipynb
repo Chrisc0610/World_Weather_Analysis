{
 "metadata": {
  "language_info": {
   "codemirror_mode": {
    "name": "ipython",
    "version": 3
   },
   "file_extension": ".py",
   "mimetype": "text/x-python",
   "name": "python",
   "nbconvert_exporter": "python",
   "pygments_lexer": "ipython3",
   "version": "3.8.5"
  },
  "orig_nbformat": 2,
  "kernelspec": {
   "name": "python385jvsc74a57bd0c72a629dba5ae9edebcad565c17c3988d814021371aabb3db62cb04d2b10dbfe",
   "display_name": "Python 3.8.5 64-bit ('base': conda)"
  }
 },
 "nbformat": 4,
 "nbformat_minor": 2,
 "cells": [
  {
   "cell_type": "code",
   "execution_count": null,
   "metadata": {},
   "outputs": [],
   "source": [
    "# Import the random module.\n",
    "import random"
   ]
  },
  {
   "cell_type": "code",
   "execution_count": 17,
   "metadata": {},
   "outputs": [
    {
     "output_type": "execute_result",
     "data": {
      "text/plain": [
       "71"
      ]
     },
     "metadata": {},
     "execution_count": 17
    }
   ],
   "source": [
    "#randint is short for \"random integer.\"\n",
    "\n",
    "random.randint(-90, 90)\n"
   ]
  },
  {
   "cell_type": "code",
   "execution_count": 20,
   "metadata": {},
   "outputs": [
    {
     "output_type": "execute_result",
     "data": {
      "text/plain": [
       "[8.875836827259294,\n",
       " -34.71972458454831,\n",
       " 65.2820925390233,\n",
       " -88.34573589081383,\n",
       " -10.235461995351708,\n",
       " 87.83726989021497,\n",
       " 86.83581762058581,\n",
       " 31.794667043729472,\n",
       " 75.13796933742725,\n",
       " -44.13661118355643]"
      ]
     },
     "metadata": {},
     "execution_count": 20
    }
   ],
   "source": [
    "#random function . This function returns only a floating-point decimal number between 0 and 1.0. \n",
    "\n",
    "x = 1\n",
    "latitudes = []\n",
    "while x < 11:\n",
    "    random_lat = random.randint(-90, 89) + random.random()\n",
    "    latitudes.append(random_lat)\n",
    "    x += 1\n",
    "\n",
    "latitudes"
   ]
  },
  {
   "cell_type": "code",
   "execution_count": 42,
   "metadata": {},
   "outputs": [
    {
     "output_type": "execute_result",
     "data": {
      "text/plain": [
       "-90"
      ]
     },
     "metadata": {},
     "execution_count": 42
    }
   ],
   "source": [
    "#For the randrange() function, there is an option to add a step parameter and set it equal to an integer, we need to add two numbers, a lower and upper limit, separated by a comma. There is an option to add a step parameter and set it equal to an integer, which will generate increments of a given integer value\n",
    "random.randrange(-90, 90, step=3)\n",
    "\n",
    "\n"
   ]
  },
  {
   "cell_type": "code",
   "execution_count": 43,
   "metadata": {},
   "outputs": [
    {
     "output_type": "execute_result",
     "data": {
      "text/plain": [
       "25.83867280762614"
      ]
     },
     "metadata": {},
     "execution_count": 43
    }
   ],
   "source": [
    "#The uniform() function will allow us to generate a floating-point decimal number between two given numbers inside the parentheses.\n",
    "random.uniform(-90, 90)"
   ]
  },
  {
   "cell_type": "code",
   "execution_count": 46,
   "metadata": {},
   "outputs": [
    {
     "output_type": "execute_result",
     "data": {
      "text/plain": [
       "array([ 84.19839549,  36.48757064,  85.87822405, -87.87267334,\n",
       "       -44.96964143, -71.12430092,  78.36683299,  50.85476989,\n",
       "        17.76134876, -78.81398406, -14.71481697, -65.68028581,\n",
       "       -63.55770979,  61.56218325,  31.80173538, -73.63248748,\n",
       "        78.08734718,  24.74766496,  76.21730829, -50.46951172,\n",
       "       -72.84656582, -48.83163695, -59.67453628, -81.97713301,\n",
       "         7.59272927,  22.54530027,  48.37705654,  66.54705784,\n",
       "        31.9313472 , -14.13652936,   8.48164313,  50.21655147,\n",
       "         7.07868545,   6.87229675, -77.40048146, -20.77673504,\n",
       "        40.36852994,  45.17015076, -70.78331246,  36.31549004,\n",
       "        48.48153368, -59.57603746, -81.18372462, -79.68575724,\n",
       "       -69.20415688,  67.17449547, -11.70503499, -85.56518942,\n",
       "        81.98173997, -26.06284864])"
      ]
     },
     "metadata": {},
     "execution_count": 46
    }
   ],
   "source": [
    "# Import the NumPy module.\n",
    "import numpy as np\n",
    "\n",
    "np.random.uniform(low=-90.000, high=90.000, size=50)"
   ]
  },
  {
   "cell_type": "code",
   "execution_count": 48,
   "metadata": {},
   "outputs": [
    {
     "output_type": "stream",
     "name": "stdout",
     "text": [
      "12.8 µs ± 70.1 ns per loop (mean ± std. dev. of 7 runs, 100000 loops each)\n"
     ]
    }
   ],
   "source": [
    "# Import timeit.\n",
    "import timeit\n",
    "\n",
    "%timeit np.random.uniform(low=-90.000, high=90.000, size=1500)\n"
   ]
  },
  {
   "cell_type": "code",
   "execution_count": 51,
   "metadata": {},
   "outputs": [
    {
     "output_type": "stream",
     "name": "stdout",
     "text": [
      "1.34 ms ± 6.95 µs per loop (mean ± std. dev. of 7 runs, 1000 loops each)\n"
     ]
    }
   ],
   "source": [
    "def latitudes(size):\n",
    "    latitudes = []\n",
    "    x = 0\n",
    "    while x < (size):\n",
    "        random_lat = random.randint(-90, 90) + random.random()\n",
    "        latitudes.append(random_lat)\n",
    "        x += 1\n",
    "    return latitudes\n",
    "# Call the function with 1500.\n",
    "%timeit latitudes(1500)"
   ]
  },
  {
   "cell_type": "code",
   "execution_count": 53,
   "metadata": {},
   "outputs": [
    {
     "output_type": "execute_result",
     "data": {
      "text/plain": [
       "array([ 31.3263123 ,  57.22124317,  66.99784156, ...,   9.50983487,\n",
       "       -65.10067531,  49.61402677])"
      ]
     },
     "metadata": {},
     "execution_count": 53
    }
   ],
   "source": [
    "np.random.uniform(-90.000, 90.000, size=1500)"
   ]
  },
  {
   "cell_type": "code",
   "execution_count": null,
   "metadata": {},
   "outputs": [],
   "source": []
  }
 ]
}