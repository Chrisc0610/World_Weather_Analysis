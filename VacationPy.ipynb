{
 "metadata": {
  "language_info": {
   "codemirror_mode": {
    "name": "ipython",
    "version": 3
   },
   "file_extension": ".py",
   "mimetype": "text/x-python",
   "name": "python",
   "nbconvert_exporter": "python",
   "pygments_lexer": "ipython3",
   "version": "3.8.5"
  },
  "orig_nbformat": 2,
  "kernelspec": {
   "name": "python385jvsc74a57bd0c72a629dba5ae9edebcad565c17c3988d814021371aabb3db62cb04d2b10dbfe",
   "display_name": "Python 3.8.5 64-bit ('base': conda)"
  }
 },
 "nbformat": 4,
 "nbformat_minor": 2,
 "cells": [
  {
   "cell_type": "code",
   "execution_count": 2,
   "metadata": {},
   "outputs": [],
   "source": [
    "# Import the dependencies.\n",
    "import pandas as pd #We'll use Pandas to read our CSV file and create the locations and measurements from the DataFrame.\n",
    "import gmaps #We'll use gmaps and the API key to create heatmaps and the locations map,\n",
    "import requests #requests dependency to make a request to the Google Places JSON file\n",
    "# Import the API key.\n",
    "from config import gkey"
   ]
  },
  {
   "cell_type": "code",
   "execution_count": 12,
   "metadata": {},
   "outputs": [
    {
     "output_type": "execute_result",
     "data": {
      "text/plain": [
       "City_ID         int64\n",
       "City           object\n",
       "Country        object\n",
       "Date           object\n",
       "Lat           float64\n",
       "Lng           float64\n",
       "Max Temp      float64\n",
       "Humidity        int64\n",
       "Cloudiness      int64\n",
       "Wind Speed    float64\n",
       "dtype: object"
      ]
     },
     "metadata": {},
     "execution_count": 12
    }
   ],
   "source": [
    "# Store the CSV you saved created in part one into a DataFrame.\n",
    "gmaps.configure(api_key=gkey)\n",
    "\n",
    "city_data_df = pd.read_csv(\"weather_data/cities.csv\")\n",
    "city_data_df.head()\n",
    "\n",
    "city_data_df.dtypes"
   ]
  },
  {
   "cell_type": "code",
   "execution_count": null,
   "metadata": {},
   "outputs": [],
   "source": [
    "# 1. Assign the locations to an array of latitude and longitude pairs.\n",
    "  #locations = [latitude, longitude]\n",
    "# 2. Assign the weights variable to some values.\n",
    "  #temperatures = # an array of length equal to the locations array length\n",
    "# 3. Assign the figure variable to the gmaps.figure() attribute.\n",
    "  #fig = gmaps.figure()\n",
    "# 4. Assign the heatmap_layer variable to the heatmap_layer attribute and add in the locations.\n",
    "  #heatmap_layer = gmaps.heatmap_layer(locations, weights=temperatures)\n",
    "\n",
    "# 5. Add the heatmap layer.\n",
    "  #fig.add_layer(heatmap_layer)\n",
    "# 6. Call the figure to plot the data.\n",
    "  #fig"
   ]
  },
  {
   "cell_type": "code",
   "execution_count": 6,
   "metadata": {},
   "outputs": [],
   "source": [
    "# Get the maximum temperature.\n",
    "max_temp = city_data_df[\"Max Temp\"]\n",
    "temps = []\n",
    "for temp in max_temp:\n",
    "    temps.append(max(temp, 0))"
   ]
  },
  {
   "cell_type": "code",
   "execution_count": 27,
   "metadata": {},
   "outputs": [
    {
     "output_type": "display_data",
     "data": {
      "text/plain": "Figure(layout=FigureLayout(height='420px'))",
      "application/vnd.jupyter.widget-view+json": {
       "version_major": 2,
       "version_minor": 0,
       "model_id": "bdbc44e0a232433b8c9ac1652b2f5d9f"
      }
     },
     "metadata": {}
    }
   ],
   "source": [
    "# Heatmap of temperature\n",
    "# Get the latitude and longitude.\n",
    "locations = city_data_df[[\"Lat\", \"Lng\"]]\n",
    "# Get the maximum temperature.\n",
    "max_temp = city_data_df[\"Max Temp\"]\n",
    "# Assign the figure variable.\n",
    "fig = gmaps.figure(center=(30.0, 31.0), zoom_level=1.2)\n",
    "# Assign the heatmap variable.\n",
    "heat_layer = gmaps.heatmap_layer(locations, weights=[max(temp, 0) for temp in max_temp])\n",
    "# Add the heatmap layer.\n",
    "fig.add_layer(heat_layer)\n",
    "# Call the figure to plot the data.\n",
    "fig\n",
    "\n"
   ]
  },
  {
   "cell_type": "code",
   "execution_count": 26,
   "metadata": {},
   "outputs": [
    {
     "output_type": "display_data",
     "data": {
      "text/plain": "Figure(layout=FigureLayout(height='420px'))",
      "application/vnd.jupyter.widget-view+json": {
       "version_major": 2,
       "version_minor": 0,
       "model_id": "5c898768d2214838977882338af3bdc1"
      }
     },
     "metadata": {}
    }
   ],
   "source": [
    "# Heatmap of temperature\n",
    "# Get the latitude and longitude.\n",
    "locations = city_data_df[[\"Lat\", \"Lng\"]]\n",
    "# Get the maximum temperature.\n",
    "max_temp = city_data_df[\"Max Temp\"]\n",
    "# Assign the figure variable.\n",
    "fig = gmaps.figure(center=(30.0, 31.0), zoom_level=1.2)\n",
    "# Assign the heatmap variable.\n",
    "heat_layer = gmaps.heatmap_layer(locations, weights=temps, dissipating=False, max_intensity=300, point_radius=4)\n",
    "# Add the heatmap layer.\n",
    "fig.add_layer(heat_layer)\n",
    "# Call the figure to plot the data.\n",
    "fig"
   ]
  },
  {
   "cell_type": "code",
   "execution_count": 28,
   "metadata": {},
   "outputs": [
    {
     "output_type": "display_data",
     "data": {
      "text/plain": "Figure(layout=FigureLayout(height='420px'))",
      "application/vnd.jupyter.widget-view+json": {
       "version_major": 2,
       "version_minor": 0,
       "model_id": "6c3748de0e7d4c17ad0c4737e6fdb27d"
      }
     },
     "metadata": {}
    }
   ],
   "source": [
    "# Heatmap of percent humidity\n",
    "locations = city_data_df[[\"Lat\", \"Lng\"]]\n",
    "humidity = city_data_df[\"Humidity\"]\n",
    "fig = gmaps.figure(center=(30.0, 31.0), zoom_level=1.5)\n",
    "heat_layer = gmaps.heatmap_layer(locations, weights=humidity, dissipating=False, max_intensity=300, point_radius=4)\n",
    "\n",
    "fig.add_layer(heat_layer)\n",
    "# Call the figure to plot the data.\n",
    "fig"
   ]
  },
  {
   "cell_type": "code",
   "execution_count": 30,
   "metadata": {},
   "outputs": [
    {
     "output_type": "display_data",
     "data": {
      "text/plain": "Figure(layout=FigureLayout(height='420px'))",
      "application/vnd.jupyter.widget-view+json": {
       "version_major": 2,
       "version_minor": 0,
       "model_id": "98763ff32df1486fb02a1294c33a78cc"
      }
     },
     "metadata": {}
    }
   ],
   "source": [
    "# Heatmap of percent cloudiness\n",
    "locations = city_data_df[[\"Lat\", \"Lng\"]]\n",
    "clouds = city_data_df[\"Cloudiness\"]\n",
    "fig = gmaps.figure(center=(30.0, 31.0), zoom_level=1.5)\n",
    "heat_layer = gmaps.heatmap_layer(locations, weights=clouds, dissipating=False, max_intensity=300, point_radius=4)\n",
    "\n",
    "fig.add_layer(heat_layer)\n",
    "# Call the figure to plot the data.\n",
    "fig\n"
   ]
  },
  {
   "cell_type": "code",
   "execution_count": 31,
   "metadata": {},
   "outputs": [
    {
     "output_type": "display_data",
     "data": {
      "text/plain": "Figure(layout=FigureLayout(height='420px'))",
      "application/vnd.jupyter.widget-view+json": {
       "version_major": 2,
       "version_minor": 0,
       "model_id": "40c4b14c62544eb0957ee4c31d5826e4"
      }
     },
     "metadata": {}
    }
   ],
   "source": [
    "# Heatmap of percent wind speed\n",
    "locations = city_data_df[[\"Lat\", \"Lng\"]]\n",
    "wind = city_data_df[\"Wind Speed\"] #this calls another DataFrame \n",
    "fig = gmaps.figure(center=(30.0, 31.0), zoom_level=1.5)\n",
    "heat_layer = gmaps.heatmap_layer(locations, weights=wind, dissipating=False, max_intensity=300, point_radius=4)\n",
    "\n",
    "fig.add_layer(heat_layer)\n",
    "# Call the figure to plot the data.\n",
    "fig"
   ]
  },
  {
   "cell_type": "code",
   "execution_count": 32,
   "metadata": {},
   "outputs": [],
   "source": [
    "# Ask the customer to add a minimum and maximum temperature value.\n",
    "min_temp = float(input(\"What is the minimum temperature you would like for your trip? \"))\n",
    "max_temp = float(input(\"What is the maximum temperature you would like for your trip? \"))"
   ]
  },
  {
   "cell_type": "code",
   "execution_count": 33,
   "metadata": {},
   "outputs": [
    {
     "output_type": "execute_result",
     "data": {
      "text/plain": [
       "    City_ID            City Country                 Date      Lat       Lng  \\\n",
       "2         2            Hilo      US  2021-05-30 18:24:36  19.7297 -155.0900   \n",
       "31       31    Saint George      US  2021-05-30 18:23:51  37.1041 -113.5841   \n",
       "35       35  Cabo San Lucas      MX  2021-05-30 18:22:38  22.8909 -109.9124   \n",
       "43       43       Rey Bouba      CM  2021-05-30 18:24:45   8.6724   14.1786   \n",
       "49       49             Sur      OM  2021-05-30 18:24:46  22.5667   59.5289   \n",
       "51       51            Kaka      TM  2021-05-30 18:24:46  37.3482   59.6143   \n",
       "52       52           Adrar      MR  2021-05-30 18:24:41  20.5022  -10.0711   \n",
       "53       53          Atuona      PF  2021-05-30 18:24:47  -9.8000 -139.0333   \n",
       "57       57         Oistins      BB  2021-05-30 18:24:48  13.0667  -59.5333   \n",
       "61       61      Vila Velha      BR  2021-05-30 18:20:59 -20.3297  -40.2925   \n",
       "\n",
       "    Max Temp  Humidity  Cloudiness  Wind Speed  \n",
       "2      86.29        75          40        5.75  \n",
       "31     93.67        12           1        3.00  \n",
       "35     95.81        47           1        4.61  \n",
       "43     94.55        29         100        3.44  \n",
       "49     90.82        50          60       11.97  \n",
       "51     93.83         9           1        7.52  \n",
       "52     82.71        42          69       40.00  \n",
       "53     80.11        61          74        7.99  \n",
       "57     80.69        65          75       25.32  \n",
       "61     85.96        66           0        8.01  "
      ],
      "text/html": "<div>\n<style scoped>\n    .dataframe tbody tr th:only-of-type {\n        vertical-align: middle;\n    }\n\n    .dataframe tbody tr th {\n        vertical-align: top;\n    }\n\n    .dataframe thead th {\n        text-align: right;\n    }\n</style>\n<table border=\"1\" class=\"dataframe\">\n  <thead>\n    <tr style=\"text-align: right;\">\n      <th></th>\n      <th>City_ID</th>\n      <th>City</th>\n      <th>Country</th>\n      <th>Date</th>\n      <th>Lat</th>\n      <th>Lng</th>\n      <th>Max Temp</th>\n      <th>Humidity</th>\n      <th>Cloudiness</th>\n      <th>Wind Speed</th>\n    </tr>\n  </thead>\n  <tbody>\n    <tr>\n      <th>2</th>\n      <td>2</td>\n      <td>Hilo</td>\n      <td>US</td>\n      <td>2021-05-30 18:24:36</td>\n      <td>19.7297</td>\n      <td>-155.0900</td>\n      <td>86.29</td>\n      <td>75</td>\n      <td>40</td>\n      <td>5.75</td>\n    </tr>\n    <tr>\n      <th>31</th>\n      <td>31</td>\n      <td>Saint George</td>\n      <td>US</td>\n      <td>2021-05-30 18:23:51</td>\n      <td>37.1041</td>\n      <td>-113.5841</td>\n      <td>93.67</td>\n      <td>12</td>\n      <td>1</td>\n      <td>3.00</td>\n    </tr>\n    <tr>\n      <th>35</th>\n      <td>35</td>\n      <td>Cabo San Lucas</td>\n      <td>MX</td>\n      <td>2021-05-30 18:22:38</td>\n      <td>22.8909</td>\n      <td>-109.9124</td>\n      <td>95.81</td>\n      <td>47</td>\n      <td>1</td>\n      <td>4.61</td>\n    </tr>\n    <tr>\n      <th>43</th>\n      <td>43</td>\n      <td>Rey Bouba</td>\n      <td>CM</td>\n      <td>2021-05-30 18:24:45</td>\n      <td>8.6724</td>\n      <td>14.1786</td>\n      <td>94.55</td>\n      <td>29</td>\n      <td>100</td>\n      <td>3.44</td>\n    </tr>\n    <tr>\n      <th>49</th>\n      <td>49</td>\n      <td>Sur</td>\n      <td>OM</td>\n      <td>2021-05-30 18:24:46</td>\n      <td>22.5667</td>\n      <td>59.5289</td>\n      <td>90.82</td>\n      <td>50</td>\n      <td>60</td>\n      <td>11.97</td>\n    </tr>\n    <tr>\n      <th>51</th>\n      <td>51</td>\n      <td>Kaka</td>\n      <td>TM</td>\n      <td>2021-05-30 18:24:46</td>\n      <td>37.3482</td>\n      <td>59.6143</td>\n      <td>93.83</td>\n      <td>9</td>\n      <td>1</td>\n      <td>7.52</td>\n    </tr>\n    <tr>\n      <th>52</th>\n      <td>52</td>\n      <td>Adrar</td>\n      <td>MR</td>\n      <td>2021-05-30 18:24:41</td>\n      <td>20.5022</td>\n      <td>-10.0711</td>\n      <td>82.71</td>\n      <td>42</td>\n      <td>69</td>\n      <td>40.00</td>\n    </tr>\n    <tr>\n      <th>53</th>\n      <td>53</td>\n      <td>Atuona</td>\n      <td>PF</td>\n      <td>2021-05-30 18:24:47</td>\n      <td>-9.8000</td>\n      <td>-139.0333</td>\n      <td>80.11</td>\n      <td>61</td>\n      <td>74</td>\n      <td>7.99</td>\n    </tr>\n    <tr>\n      <th>57</th>\n      <td>57</td>\n      <td>Oistins</td>\n      <td>BB</td>\n      <td>2021-05-30 18:24:48</td>\n      <td>13.0667</td>\n      <td>-59.5333</td>\n      <td>80.69</td>\n      <td>65</td>\n      <td>75</td>\n      <td>25.32</td>\n    </tr>\n    <tr>\n      <th>61</th>\n      <td>61</td>\n      <td>Vila Velha</td>\n      <td>BR</td>\n      <td>2021-05-30 18:20:59</td>\n      <td>-20.3297</td>\n      <td>-40.2925</td>\n      <td>85.96</td>\n      <td>66</td>\n      <td>0</td>\n      <td>8.01</td>\n    </tr>\n  </tbody>\n</table>\n</div>"
     },
     "metadata": {},
     "execution_count": 33
    }
   ],
   "source": [
    "#filter the maximum temperature column in the city_data_df DataFrame using logical operators to create a new DataFrame with the cities that meet the customer's criteria.\n",
    "\n",
    "# Filter the dataset to find the cities that fit the criteria.\n",
    "preferred_cities_df = city_data_df.loc[(city_data_df[\"Max Temp\"] <= max_temp) & \\\n",
    "                                       (city_data_df[\"Max Temp\"] >= min_temp)]\n",
    "preferred_cities_df.head(10)"
   ]
  },
  {
   "cell_type": "code",
   "execution_count": 34,
   "metadata": {},
   "outputs": [
    {
     "output_type": "execute_result",
     "data": {
      "text/plain": [
       "City_ID       128\n",
       "City          128\n",
       "Country       128\n",
       "Date          128\n",
       "Lat           128\n",
       "Lng           128\n",
       "Max Temp      128\n",
       "Humidity      128\n",
       "Cloudiness    128\n",
       "Wind Speed    128\n",
       "dtype: int64"
      ]
     },
     "metadata": {},
     "execution_count": 34
    }
   ],
   "source": [
    "preferred_cities_df.count() #checks for nulls"
   ]
  },
  {
   "cell_type": "code",
   "execution_count": 37,
   "metadata": {},
   "outputs": [
    {
     "output_type": "execute_result",
     "data": {
      "text/plain": [
       "City_ID       0\n",
       "City          0\n",
       "Country       0\n",
       "Date          0\n",
       "Lat           0\n",
       "Lng           0\n",
       "Max Temp      0\n",
       "Humidity      0\n",
       "Cloudiness    0\n",
       "Wind Speed    0\n",
       "dtype: int64"
      ]
     },
     "metadata": {},
     "execution_count": 37
    }
   ],
   "source": [
    "preferred_cities_df.isnull().sum() #checks for nulls (another way)\n",
    "#preferred_cities_df.notnull().sum() #checks for nulls (another way)"
   ]
  },
  {
   "cell_type": "code",
   "execution_count": 38,
   "metadata": {},
   "outputs": [
    {
     "output_type": "execute_result",
     "data": {
      "text/plain": [
       "              City Country  Max Temp      Lat       Lng Hotel Name\n",
       "2             Hilo      US     86.29  19.7297 -155.0900           \n",
       "31    Saint George      US     93.67  37.1041 -113.5841           \n",
       "35  Cabo San Lucas      MX     95.81  22.8909 -109.9124           \n",
       "43       Rey Bouba      CM     94.55   8.6724   14.1786           \n",
       "49             Sur      OM     90.82  22.5667   59.5289           \n",
       "51            Kaka      TM     93.83  37.3482   59.6143           \n",
       "52           Adrar      MR     82.71  20.5022  -10.0711           \n",
       "53          Atuona      PF     80.11  -9.8000 -139.0333           \n",
       "57         Oistins      BB     80.69  13.0667  -59.5333           \n",
       "61      Vila Velha      BR     85.96 -20.3297  -40.2925           "
      ],
      "text/html": "<div>\n<style scoped>\n    .dataframe tbody tr th:only-of-type {\n        vertical-align: middle;\n    }\n\n    .dataframe tbody tr th {\n        vertical-align: top;\n    }\n\n    .dataframe thead th {\n        text-align: right;\n    }\n</style>\n<table border=\"1\" class=\"dataframe\">\n  <thead>\n    <tr style=\"text-align: right;\">\n      <th></th>\n      <th>City</th>\n      <th>Country</th>\n      <th>Max Temp</th>\n      <th>Lat</th>\n      <th>Lng</th>\n      <th>Hotel Name</th>\n    </tr>\n  </thead>\n  <tbody>\n    <tr>\n      <th>2</th>\n      <td>Hilo</td>\n      <td>US</td>\n      <td>86.29</td>\n      <td>19.7297</td>\n      <td>-155.0900</td>\n      <td></td>\n    </tr>\n    <tr>\n      <th>31</th>\n      <td>Saint George</td>\n      <td>US</td>\n      <td>93.67</td>\n      <td>37.1041</td>\n      <td>-113.5841</td>\n      <td></td>\n    </tr>\n    <tr>\n      <th>35</th>\n      <td>Cabo San Lucas</td>\n      <td>MX</td>\n      <td>95.81</td>\n      <td>22.8909</td>\n      <td>-109.9124</td>\n      <td></td>\n    </tr>\n    <tr>\n      <th>43</th>\n      <td>Rey Bouba</td>\n      <td>CM</td>\n      <td>94.55</td>\n      <td>8.6724</td>\n      <td>14.1786</td>\n      <td></td>\n    </tr>\n    <tr>\n      <th>49</th>\n      <td>Sur</td>\n      <td>OM</td>\n      <td>90.82</td>\n      <td>22.5667</td>\n      <td>59.5289</td>\n      <td></td>\n    </tr>\n    <tr>\n      <th>51</th>\n      <td>Kaka</td>\n      <td>TM</td>\n      <td>93.83</td>\n      <td>37.3482</td>\n      <td>59.6143</td>\n      <td></td>\n    </tr>\n    <tr>\n      <th>52</th>\n      <td>Adrar</td>\n      <td>MR</td>\n      <td>82.71</td>\n      <td>20.5022</td>\n      <td>-10.0711</td>\n      <td></td>\n    </tr>\n    <tr>\n      <th>53</th>\n      <td>Atuona</td>\n      <td>PF</td>\n      <td>80.11</td>\n      <td>-9.8000</td>\n      <td>-139.0333</td>\n      <td></td>\n    </tr>\n    <tr>\n      <th>57</th>\n      <td>Oistins</td>\n      <td>BB</td>\n      <td>80.69</td>\n      <td>13.0667</td>\n      <td>-59.5333</td>\n      <td></td>\n    </tr>\n    <tr>\n      <th>61</th>\n      <td>Vila Velha</td>\n      <td>BR</td>\n      <td>85.96</td>\n      <td>-20.3297</td>\n      <td>-40.2925</td>\n      <td></td>\n    </tr>\n  </tbody>\n</table>\n</div>"
     },
     "metadata": {},
     "execution_count": 38
    }
   ],
   "source": [
    "# Create DataFrame called hotel_df to store hotel names along with city, country, max temp, and coordinates.\n",
    "#Make a copy of the preferred_cities_df DataFrame and name it hotel_df. keep the columns \"City,\" \"Country,\" \"Max Temp,\" \"Lat,\" and \"Lng.\"\n",
    "hotel_df = preferred_cities_df[[\"City\", \"Country\", \"Max Temp\", \"Lat\", \"Lng\"]].copy() \n",
    "hotel_df[\"Hotel Name\"] = \"\" #Adds a new column to the hotel_df DataFrame to hold the name of the hotel.\n",
    "hotel_df.head(10)"
   ]
  },
  {
   "cell_type": "code",
   "execution_count": 40,
   "metadata": {},
   "outputs": [],
   "source": [
    "# Set parameters to search for a hotel.\n",
    "params = {\n",
    "    \"radius\": 5000,\n",
    "    \"type\": \"lodging\",\n",
    "    \"key\": gkey\n",
    "}"
   ]
  },
  {
   "cell_type": "code",
   "execution_count": 48,
   "metadata": {},
   "outputs": [
    {
     "output_type": "stream",
     "name": "stdout",
     "text": [
      "Hotel not found... skipping.\n",
      "Hotel not found... skipping.\n",
      "Hotel not found... skipping.\n",
      "Hotel not found... skipping.\n",
      "Hotel not found... skipping.\n",
      "Hotel not found... skipping.\n",
      "Hotel not found... skipping.\n",
      "Hotel not found... skipping.\n",
      "Hotel not found... skipping.\n",
      "Hotel not found... skipping.\n",
      "Hotel not found... skipping.\n",
      "Hotel not found... skipping.\n",
      "Hotel not found... skipping.\n",
      "Hotel not found... skipping.\n"
     ]
    }
   ],
   "source": [
    "# Iterate through the DataFrame.\n",
    "for index, row in hotel_df.iterrows(): #use the iterrows() function to perform the iteration; however,need to provide the index and the row in the for loop using this syntax: for index, row in df.iterrows().\n",
    "   \n",
    "    # Get the latitude and longitude.\n",
    "    lat = row[\"Lat\"]\n",
    "    lng = row[\"Lng\"]\n",
    "\n",
    "    # Add the latitude and longitude to location key for the params dictionary.\n",
    "    params[\"location\"] = f\"{lat},{lng}\"\n",
    "\n",
    "    # Use the search term: \"lodging\" and our latitude and longitude.\n",
    "    base_url = \"https://maps.googleapis.com/maps/api/place/nearbysearch/json\"\n",
    "    # Make request and get the JSON data from the search.\n",
    "    hotels = requests.get(base_url, params=params).json()\n",
    "    # Grab the first hotel from the results and store the name.\n",
    "    try:\n",
    "        hotel_df.loc[index, \"Hotel Name\"] = hotels[\"results\"][0][\"name\"]\n",
    "    except (IndexError):\n",
    "        print(\"Hotel not found... skipping.\")"
   ]
  },
  {
   "cell_type": "code",
   "execution_count": 50,
   "metadata": {},
   "outputs": [
    {
     "output_type": "execute_result",
     "data": {
      "text/plain": [
       "              City Country  Max Temp      Lat       Lng  \\\n",
       "2             Hilo      US     86.29  19.7297 -155.0900   \n",
       "31    Saint George      US     93.67  37.1041 -113.5841   \n",
       "35  Cabo San Lucas      MX     95.81  22.8909 -109.9124   \n",
       "43       Rey Bouba      CM     94.55   8.6724   14.1786   \n",
       "49             Sur      OM     90.82  22.5667   59.5289   \n",
       "51            Kaka      TM     93.83  37.3482   59.6143   \n",
       "52           Adrar      MR     82.71  20.5022  -10.0711   \n",
       "53          Atuona      PF     80.11  -9.8000 -139.0333   \n",
       "57         Oistins      BB     80.69  13.0667  -59.5333   \n",
       "61      Vila Velha      BR     85.96 -20.3297  -40.2925   \n",
       "\n",
       "                     Hotel Name  \n",
       "2           Hilo Hawaiian Hotel  \n",
       "31  Best Western Plus Abbey Inn  \n",
       "35             Tesoro Los Cabos  \n",
       "43                               \n",
       "49              Sur Plaza Hotel  \n",
       "51                               \n",
       "52                               \n",
       "53                  Villa Enata  \n",
       "57        Butterfly Beach Hotel  \n",
       "61    Quality Suites Vila Velha  "
      ],
      "text/html": "<div>\n<style scoped>\n    .dataframe tbody tr th:only-of-type {\n        vertical-align: middle;\n    }\n\n    .dataframe tbody tr th {\n        vertical-align: top;\n    }\n\n    .dataframe thead th {\n        text-align: right;\n    }\n</style>\n<table border=\"1\" class=\"dataframe\">\n  <thead>\n    <tr style=\"text-align: right;\">\n      <th></th>\n      <th>City</th>\n      <th>Country</th>\n      <th>Max Temp</th>\n      <th>Lat</th>\n      <th>Lng</th>\n      <th>Hotel Name</th>\n    </tr>\n  </thead>\n  <tbody>\n    <tr>\n      <th>2</th>\n      <td>Hilo</td>\n      <td>US</td>\n      <td>86.29</td>\n      <td>19.7297</td>\n      <td>-155.0900</td>\n      <td>Hilo Hawaiian Hotel</td>\n    </tr>\n    <tr>\n      <th>31</th>\n      <td>Saint George</td>\n      <td>US</td>\n      <td>93.67</td>\n      <td>37.1041</td>\n      <td>-113.5841</td>\n      <td>Best Western Plus Abbey Inn</td>\n    </tr>\n    <tr>\n      <th>35</th>\n      <td>Cabo San Lucas</td>\n      <td>MX</td>\n      <td>95.81</td>\n      <td>22.8909</td>\n      <td>-109.9124</td>\n      <td>Tesoro Los Cabos</td>\n    </tr>\n    <tr>\n      <th>43</th>\n      <td>Rey Bouba</td>\n      <td>CM</td>\n      <td>94.55</td>\n      <td>8.6724</td>\n      <td>14.1786</td>\n      <td></td>\n    </tr>\n    <tr>\n      <th>49</th>\n      <td>Sur</td>\n      <td>OM</td>\n      <td>90.82</td>\n      <td>22.5667</td>\n      <td>59.5289</td>\n      <td>Sur Plaza Hotel</td>\n    </tr>\n    <tr>\n      <th>51</th>\n      <td>Kaka</td>\n      <td>TM</td>\n      <td>93.83</td>\n      <td>37.3482</td>\n      <td>59.6143</td>\n      <td></td>\n    </tr>\n    <tr>\n      <th>52</th>\n      <td>Adrar</td>\n      <td>MR</td>\n      <td>82.71</td>\n      <td>20.5022</td>\n      <td>-10.0711</td>\n      <td></td>\n    </tr>\n    <tr>\n      <th>53</th>\n      <td>Atuona</td>\n      <td>PF</td>\n      <td>80.11</td>\n      <td>-9.8000</td>\n      <td>-139.0333</td>\n      <td>Villa Enata</td>\n    </tr>\n    <tr>\n      <th>57</th>\n      <td>Oistins</td>\n      <td>BB</td>\n      <td>80.69</td>\n      <td>13.0667</td>\n      <td>-59.5333</td>\n      <td>Butterfly Beach Hotel</td>\n    </tr>\n    <tr>\n      <th>61</th>\n      <td>Vila Velha</td>\n      <td>BR</td>\n      <td>85.96</td>\n      <td>-20.3297</td>\n      <td>-40.2925</td>\n      <td>Quality Suites Vila Velha</td>\n    </tr>\n  </tbody>\n</table>\n</div>"
     },
     "metadata": {},
     "execution_count": 50
    }
   ],
   "source": [
    "hotel_df.head(10)"
   ]
  },
  {
   "cell_type": "code",
   "execution_count": 51,
   "metadata": {},
   "outputs": [
    {
     "output_type": "display_data",
     "data": {
      "text/plain": "Figure(layout=FigureLayout(height='420px'))",
      "application/vnd.jupyter.widget-view+json": {
       "version_major": 2,
       "version_minor": 0,
       "model_id": "9b6fdedd054d4604beb1c78c6d324b9b"
      }
     },
     "metadata": {}
    }
   ],
   "source": [
    "# Add a heatmap of temperature for the vacation spots.\n",
    "locations = hotel_df[[\"Lat\", \"Lng\"]]\n",
    "max_temp = hotel_df[\"Max Temp\"]\n",
    "fig = gmaps.figure(center=(30.0, 31.0), zoom_level=1.5)\n",
    "heat_layer = gmaps.heatmap_layer(locations, weights=max_temp, dissipating=False,\n",
    "             max_intensity=300, point_radius=4)\n",
    "\n",
    "fig.add_layer(heat_layer)\n",
    "# Call the figure to plot the data.\n",
    "fig"
   ]
  },
  {
   "cell_type": "code",
   "execution_count": 52,
   "metadata": {},
   "outputs": [
    {
     "output_type": "display_data",
     "data": {
      "text/plain": "Figure(layout=FigureLayout(height='420px'))",
      "application/vnd.jupyter.widget-view+json": {
       "version_major": 2,
       "version_minor": 0,
       "model_id": "b2bef1cf0bbd40b694a2d8f9408f4405"
      }
     },
     "metadata": {}
    }
   ],
   "source": [
    "# Add a heatmap of temperature for the vacation spots and marker for each city with markers. the syntax is markers = gmaps.marker_layer(marker_locations)\n",
    "locations = hotel_df[[\"Lat\", \"Lng\"]]\n",
    "max_temp = hotel_df[\"Max Temp\"]\n",
    "fig = gmaps.figure(center=(30.0, 31.0), zoom_level=1.5)\n",
    "heat_layer = gmaps.heatmap_layer(locations, weights=max_temp,\n",
    "             dissipating=False, max_intensity=300, point_radius=4)\n",
    "marker_layer = gmaps.marker_layer(locations)\n",
    "fig.add_layer(heat_layer)\n",
    "fig.add_layer(marker_layer)\n",
    "# Call the figure to plot the data.\n",
    "fig"
   ]
  },
  {
   "cell_type": "code",
   "execution_count": 53,
   "metadata": {},
   "outputs": [],
   "source": [
    "info_box_template = \"\"\"\n",
    "<dl>\n",
    "<dt>Hotel Name</dt><dd>{Hotel Name}</dd>\n",
    "<dt>City</dt><dd>{City}</dd>\n",
    "<dt>Country</dt><dd>{Country}</dd>\n",
    "<dt>Max Temp</dt><dd>{Max Temp} °F</dd>\n",
    "</dl>\n",
    "\"\"\""
   ]
  },
  {
   "cell_type": "code",
   "execution_count": 54,
   "metadata": {},
   "outputs": [],
   "source": [
    "# Store the DataFrame Row.\n",
    "# set the hotel_info equal to the info_box_content\n",
    "hotel_info = [info_box_template.format(**row) for index, row in hotel_df.iterrows()]\n",
    "#In the list comprehension above we iterate through each \"row\" of the hotel_df DataFrame and then format the info_box_template with the data we set to populate the from each row. "
   ]
  },
  {
   "cell_type": "code",
   "execution_count": 55,
   "metadata": {},
   "outputs": [
    {
     "output_type": "display_data",
     "data": {
      "text/plain": "Figure(layout=FigureLayout(height='420px'))",
      "application/vnd.jupyter.widget-view+json": {
       "version_major": 2,
       "version_minor": 0,
       "model_id": "7982eb61a3504077bf293abc2426699e"
      }
     },
     "metadata": {}
    }
   ],
   "source": [
    "# Add a heatmap of temperature for the vacation spots and a pop-up marker for each city.\n",
    "locations = hotel_df[[\"Lat\", \"Lng\"]]\n",
    "max_temp = hotel_df[\"Max Temp\"]\n",
    "fig = gmaps.figure(center=(30.0, 31.0), zoom_level=1.5)\n",
    "heat_layer = gmaps.heatmap_layer(locations, weights=max_temp,dissipating=False,\n",
    "             max_intensity=300, point_radius=4)\n",
    "marker_layer = gmaps.marker_layer(locations, info_box_content=hotel_info)\n",
    "fig.add_layer(heat_layer)\n",
    "fig.add_layer(marker_layer)\n",
    "\n",
    "# Call the figure to plot the data.\n",
    "fig"
   ]
  },
  {
   "cell_type": "code",
   "execution_count": null,
   "metadata": {},
   "outputs": [],
   "source": []
  }
 ]
}