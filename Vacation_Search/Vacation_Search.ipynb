{
 "cells": [
  {
   "cell_type": "markdown",
   "metadata": {},
   "source": [
    "## Deliverable 2. Create a Customer Travel Destinations Map."
   ]
  },
  {
   "cell_type": "code",
   "execution_count": 2,
   "metadata": {},
   "outputs": [],
   "source": [
    "# Dependencies and Setup\n",
    "import pandas as pd\n",
    "import requests\n",
    "import gmaps\n",
    "\n",
    "# Import API key\n",
    "from config import g_key\n",
    "\n",
    "# Configure gmaps API key\n",
    "gmaps.configure(api_key=g_key)"
   ]
  },
  {
   "cell_type": "code",
   "execution_count": 3,
   "metadata": {},
   "outputs": [
    {
     "output_type": "execute_result",
     "data": {
      "text/plain": [
       "   City_ID         City      Lat      Lng  Max Temp  Humidity  Cloudiness  \\\n",
       "0        0  Port Alfred -33.5906  26.8910     56.50        56           0   \n",
       "1        1  Maine-Soroa  13.2114  12.0241     86.05        42         100   \n",
       "2        2         Tias  28.9611 -13.6450     64.15        68          75   \n",
       "3        3    Mahajanga -15.7167  46.3167     69.82        83          20   \n",
       "4        4        Suhut  38.5311  30.5458     44.44        83           0   \n",
       "\n",
       "   Wind Speed Country      Description                 Date  \n",
       "0       11.45      ZA        clear sky  2021-06-06 03:13:54  \n",
       "1        8.77      NE  overcast clouds  2021-06-06 03:17:08  \n",
       "2       10.36      ES    broken clouds  2021-06-06 03:17:08  \n",
       "3        4.61      MG       few clouds  2021-06-06 03:17:09  \n",
       "4        3.49      TR        clear sky  2021-06-06 03:08:05  "
      ],
      "text/html": "<div>\n<style scoped>\n    .dataframe tbody tr th:only-of-type {\n        vertical-align: middle;\n    }\n\n    .dataframe tbody tr th {\n        vertical-align: top;\n    }\n\n    .dataframe thead th {\n        text-align: right;\n    }\n</style>\n<table border=\"1\" class=\"dataframe\">\n  <thead>\n    <tr style=\"text-align: right;\">\n      <th></th>\n      <th>City_ID</th>\n      <th>City</th>\n      <th>Lat</th>\n      <th>Lng</th>\n      <th>Max Temp</th>\n      <th>Humidity</th>\n      <th>Cloudiness</th>\n      <th>Wind Speed</th>\n      <th>Country</th>\n      <th>Description</th>\n      <th>Date</th>\n    </tr>\n  </thead>\n  <tbody>\n    <tr>\n      <th>0</th>\n      <td>0</td>\n      <td>Port Alfred</td>\n      <td>-33.5906</td>\n      <td>26.8910</td>\n      <td>56.50</td>\n      <td>56</td>\n      <td>0</td>\n      <td>11.45</td>\n      <td>ZA</td>\n      <td>clear sky</td>\n      <td>2021-06-06 03:13:54</td>\n    </tr>\n    <tr>\n      <th>1</th>\n      <td>1</td>\n      <td>Maine-Soroa</td>\n      <td>13.2114</td>\n      <td>12.0241</td>\n      <td>86.05</td>\n      <td>42</td>\n      <td>100</td>\n      <td>8.77</td>\n      <td>NE</td>\n      <td>overcast clouds</td>\n      <td>2021-06-06 03:17:08</td>\n    </tr>\n    <tr>\n      <th>2</th>\n      <td>2</td>\n      <td>Tias</td>\n      <td>28.9611</td>\n      <td>-13.6450</td>\n      <td>64.15</td>\n      <td>68</td>\n      <td>75</td>\n      <td>10.36</td>\n      <td>ES</td>\n      <td>broken clouds</td>\n      <td>2021-06-06 03:17:08</td>\n    </tr>\n    <tr>\n      <th>3</th>\n      <td>3</td>\n      <td>Mahajanga</td>\n      <td>-15.7167</td>\n      <td>46.3167</td>\n      <td>69.82</td>\n      <td>83</td>\n      <td>20</td>\n      <td>4.61</td>\n      <td>MG</td>\n      <td>few clouds</td>\n      <td>2021-06-06 03:17:09</td>\n    </tr>\n    <tr>\n      <th>4</th>\n      <td>4</td>\n      <td>Suhut</td>\n      <td>38.5311</td>\n      <td>30.5458</td>\n      <td>44.44</td>\n      <td>83</td>\n      <td>0</td>\n      <td>3.49</td>\n      <td>TR</td>\n      <td>clear sky</td>\n      <td>2021-06-06 03:08:05</td>\n    </tr>\n  </tbody>\n</table>\n</div>"
     },
     "metadata": {},
     "execution_count": 3
    }
   ],
   "source": [
    "# 1. Import the WeatherPy_database.csv file. \n",
    "city_data_df = pd.read_csv(\"../Weather_Database/WeatherPy_database.csv\")\n",
    "city_data_df.head()"
   ]
  },
  {
   "cell_type": "code",
   "execution_count": 4,
   "metadata": {},
   "outputs": [],
   "source": [
    "# 2. Prompt the user to enter minimum and maximum temperature criteria \n",
    "min_temp = float(input(\"What is the minimum temperature you would like for your trip? \"))\n",
    "max_temp = float(input(\"What is the maximum temperature you would like for your trip? \"))"
   ]
  },
  {
   "cell_type": "code",
   "execution_count": 5,
   "metadata": {},
   "outputs": [
    {
     "output_type": "execute_result",
     "data": {
      "text/plain": [
       "    City_ID         City      Lat       Lng  Max Temp  Humidity  Cloudiness  \\\n",
       "1         1  Maine-Soroa  13.2114   12.0241     86.05        42         100   \n",
       "6         6        Akyab  20.1500   92.9000     82.09        84          90   \n",
       "7         7       Albany  42.6001  -73.9662     73.92        72          24   \n",
       "12       12       Padang  -0.9492  100.3543     84.33        60          81   \n",
       "13       13     Victoria  22.2855  114.1577     87.96        73          42   \n",
       "14       14     Cherskiy  68.7500  161.3000     70.81        27          36   \n",
       "17       17        Kapaa  22.0752 -159.3190     84.18        71          40   \n",
       "21       21     Bucerias  20.7500 -105.3333     82.98        78          75   \n",
       "23       23      Rikitea -23.1203 -134.9692     76.10        81          69   \n",
       "28       28       Atuona  -9.8000 -139.0333     79.34        69          18   \n",
       "\n",
       "    Wind Speed Country       Description                 Date  \n",
       "1         8.77      NE   overcast clouds  2021-06-06 03:17:08  \n",
       "6        14.20      MM        light rain  2021-06-06 03:16:03  \n",
       "7         1.01      US        few clouds  2021-06-06 03:13:49  \n",
       "12        2.39      ID     broken clouds  2021-06-06 03:12:47  \n",
       "13        7.00      HK  scattered clouds  2021-06-06 03:14:01  \n",
       "14       22.97      RU  scattered clouds  2021-06-06 03:17:09  \n",
       "17        1.01      US  scattered clouds  2021-06-06 03:13:56  \n",
       "21        2.28      MX     broken clouds  2021-06-06 03:13:34  \n",
       "23       12.80      PF     broken clouds  2021-06-06 03:13:52  \n",
       "28       14.18      PF        few clouds  2021-06-06 03:13:51  "
      ],
      "text/html": "<div>\n<style scoped>\n    .dataframe tbody tr th:only-of-type {\n        vertical-align: middle;\n    }\n\n    .dataframe tbody tr th {\n        vertical-align: top;\n    }\n\n    .dataframe thead th {\n        text-align: right;\n    }\n</style>\n<table border=\"1\" class=\"dataframe\">\n  <thead>\n    <tr style=\"text-align: right;\">\n      <th></th>\n      <th>City_ID</th>\n      <th>City</th>\n      <th>Lat</th>\n      <th>Lng</th>\n      <th>Max Temp</th>\n      <th>Humidity</th>\n      <th>Cloudiness</th>\n      <th>Wind Speed</th>\n      <th>Country</th>\n      <th>Description</th>\n      <th>Date</th>\n    </tr>\n  </thead>\n  <tbody>\n    <tr>\n      <th>1</th>\n      <td>1</td>\n      <td>Maine-Soroa</td>\n      <td>13.2114</td>\n      <td>12.0241</td>\n      <td>86.05</td>\n      <td>42</td>\n      <td>100</td>\n      <td>8.77</td>\n      <td>NE</td>\n      <td>overcast clouds</td>\n      <td>2021-06-06 03:17:08</td>\n    </tr>\n    <tr>\n      <th>6</th>\n      <td>6</td>\n      <td>Akyab</td>\n      <td>20.1500</td>\n      <td>92.9000</td>\n      <td>82.09</td>\n      <td>84</td>\n      <td>90</td>\n      <td>14.20</td>\n      <td>MM</td>\n      <td>light rain</td>\n      <td>2021-06-06 03:16:03</td>\n    </tr>\n    <tr>\n      <th>7</th>\n      <td>7</td>\n      <td>Albany</td>\n      <td>42.6001</td>\n      <td>-73.9662</td>\n      <td>73.92</td>\n      <td>72</td>\n      <td>24</td>\n      <td>1.01</td>\n      <td>US</td>\n      <td>few clouds</td>\n      <td>2021-06-06 03:13:49</td>\n    </tr>\n    <tr>\n      <th>12</th>\n      <td>12</td>\n      <td>Padang</td>\n      <td>-0.9492</td>\n      <td>100.3543</td>\n      <td>84.33</td>\n      <td>60</td>\n      <td>81</td>\n      <td>2.39</td>\n      <td>ID</td>\n      <td>broken clouds</td>\n      <td>2021-06-06 03:12:47</td>\n    </tr>\n    <tr>\n      <th>13</th>\n      <td>13</td>\n      <td>Victoria</td>\n      <td>22.2855</td>\n      <td>114.1577</td>\n      <td>87.96</td>\n      <td>73</td>\n      <td>42</td>\n      <td>7.00</td>\n      <td>HK</td>\n      <td>scattered clouds</td>\n      <td>2021-06-06 03:14:01</td>\n    </tr>\n    <tr>\n      <th>14</th>\n      <td>14</td>\n      <td>Cherskiy</td>\n      <td>68.7500</td>\n      <td>161.3000</td>\n      <td>70.81</td>\n      <td>27</td>\n      <td>36</td>\n      <td>22.97</td>\n      <td>RU</td>\n      <td>scattered clouds</td>\n      <td>2021-06-06 03:17:09</td>\n    </tr>\n    <tr>\n      <th>17</th>\n      <td>17</td>\n      <td>Kapaa</td>\n      <td>22.0752</td>\n      <td>-159.3190</td>\n      <td>84.18</td>\n      <td>71</td>\n      <td>40</td>\n      <td>1.01</td>\n      <td>US</td>\n      <td>scattered clouds</td>\n      <td>2021-06-06 03:13:56</td>\n    </tr>\n    <tr>\n      <th>21</th>\n      <td>21</td>\n      <td>Bucerias</td>\n      <td>20.7500</td>\n      <td>-105.3333</td>\n      <td>82.98</td>\n      <td>78</td>\n      <td>75</td>\n      <td>2.28</td>\n      <td>MX</td>\n      <td>broken clouds</td>\n      <td>2021-06-06 03:13:34</td>\n    </tr>\n    <tr>\n      <th>23</th>\n      <td>23</td>\n      <td>Rikitea</td>\n      <td>-23.1203</td>\n      <td>-134.9692</td>\n      <td>76.10</td>\n      <td>81</td>\n      <td>69</td>\n      <td>12.80</td>\n      <td>PF</td>\n      <td>broken clouds</td>\n      <td>2021-06-06 03:13:52</td>\n    </tr>\n    <tr>\n      <th>28</th>\n      <td>28</td>\n      <td>Atuona</td>\n      <td>-9.8000</td>\n      <td>-139.0333</td>\n      <td>79.34</td>\n      <td>69</td>\n      <td>18</td>\n      <td>14.18</td>\n      <td>PF</td>\n      <td>few clouds</td>\n      <td>2021-06-06 03:13:51</td>\n    </tr>\n  </tbody>\n</table>\n</div>"
     },
     "metadata": {},
     "execution_count": 5
    }
   ],
   "source": [
    "# 3. Filter the city_data_df DataFrame using the input statements to create a new DataFrame using the loc method.\n",
    "custom_cities_df = city_data_df.loc[(city_data_df[\"Max Temp\"] <= max_temp) & \\\n",
    "                                       (city_data_df[\"Max Temp\"] >= min_temp)]\n",
    "custom_cities_df.head(10)"
   ]
  },
  {
   "cell_type": "code",
   "execution_count": 6,
   "metadata": {},
   "outputs": [
    {
     "output_type": "execute_result",
     "data": {
      "text/plain": [
       "City_ID        339\n",
       "City           339\n",
       "Lat            339\n",
       "Lng            339\n",
       "Max Temp       339\n",
       "Humidity       339\n",
       "Cloudiness     339\n",
       "Wind Speed     339\n",
       "Country        337\n",
       "Description    339\n",
       "Date           339\n",
       "dtype: int64"
      ]
     },
     "metadata": {},
     "execution_count": 6
    }
   ],
   "source": [
    "# 4a. Determine if there are any empty rows.\n",
    "custom_cities_df.count()"
   ]
  },
  {
   "cell_type": "code",
   "execution_count": 7,
   "metadata": {},
   "outputs": [
    {
     "output_type": "execute_result",
     "data": {
      "text/plain": [
       "City_ID        337\n",
       "City           337\n",
       "Lat            337\n",
       "Lng            337\n",
       "Max Temp       337\n",
       "Humidity       337\n",
       "Cloudiness     337\n",
       "Wind Speed     337\n",
       "Country        337\n",
       "Description    337\n",
       "Date           337\n",
       "dtype: int64"
      ]
     },
     "metadata": {},
     "execution_count": 7
    }
   ],
   "source": [
    "# 4b. Drop any empty rows and create a new DataFrame that doesn’t have empty rows.\n",
    "clean_df = custom_cities_df.dropna()\n",
    "\n",
    "clean_df.count()"
   ]
  },
  {
   "cell_type": "code",
   "execution_count": 8,
   "metadata": {},
   "outputs": [
    {
     "output_type": "execute_result",
     "data": {
      "text/plain": [
       "           City Country  Max Temp       Description      Lat       Lng  \\\n",
       "1   Maine-Soroa      NE     86.05   overcast clouds  13.2114   12.0241   \n",
       "6         Akyab      MM     82.09        light rain  20.1500   92.9000   \n",
       "7        Albany      US     73.92        few clouds  42.6001  -73.9662   \n",
       "12       Padang      ID     84.33     broken clouds  -0.9492  100.3543   \n",
       "13     Victoria      HK     87.96  scattered clouds  22.2855  114.1577   \n",
       "14     Cherskiy      RU     70.81  scattered clouds  68.7500  161.3000   \n",
       "17        Kapaa      US     84.18  scattered clouds  22.0752 -159.3190   \n",
       "21     Bucerias      MX     82.98     broken clouds  20.7500 -105.3333   \n",
       "23      Rikitea      PF     76.10     broken clouds -23.1203 -134.9692   \n",
       "28       Atuona      PF     79.34        few clouds  -9.8000 -139.0333   \n",
       "\n",
       "   Hotel Name  \n",
       "1              \n",
       "6              \n",
       "7              \n",
       "12             \n",
       "13             \n",
       "14             \n",
       "17             \n",
       "21             \n",
       "23             \n",
       "28             "
      ],
      "text/html": "<div>\n<style scoped>\n    .dataframe tbody tr th:only-of-type {\n        vertical-align: middle;\n    }\n\n    .dataframe tbody tr th {\n        vertical-align: top;\n    }\n\n    .dataframe thead th {\n        text-align: right;\n    }\n</style>\n<table border=\"1\" class=\"dataframe\">\n  <thead>\n    <tr style=\"text-align: right;\">\n      <th></th>\n      <th>City</th>\n      <th>Country</th>\n      <th>Max Temp</th>\n      <th>Description</th>\n      <th>Lat</th>\n      <th>Lng</th>\n      <th>Hotel Name</th>\n    </tr>\n  </thead>\n  <tbody>\n    <tr>\n      <th>1</th>\n      <td>Maine-Soroa</td>\n      <td>NE</td>\n      <td>86.05</td>\n      <td>overcast clouds</td>\n      <td>13.2114</td>\n      <td>12.0241</td>\n      <td></td>\n    </tr>\n    <tr>\n      <th>6</th>\n      <td>Akyab</td>\n      <td>MM</td>\n      <td>82.09</td>\n      <td>light rain</td>\n      <td>20.1500</td>\n      <td>92.9000</td>\n      <td></td>\n    </tr>\n    <tr>\n      <th>7</th>\n      <td>Albany</td>\n      <td>US</td>\n      <td>73.92</td>\n      <td>few clouds</td>\n      <td>42.6001</td>\n      <td>-73.9662</td>\n      <td></td>\n    </tr>\n    <tr>\n      <th>12</th>\n      <td>Padang</td>\n      <td>ID</td>\n      <td>84.33</td>\n      <td>broken clouds</td>\n      <td>-0.9492</td>\n      <td>100.3543</td>\n      <td></td>\n    </tr>\n    <tr>\n      <th>13</th>\n      <td>Victoria</td>\n      <td>HK</td>\n      <td>87.96</td>\n      <td>scattered clouds</td>\n      <td>22.2855</td>\n      <td>114.1577</td>\n      <td></td>\n    </tr>\n    <tr>\n      <th>14</th>\n      <td>Cherskiy</td>\n      <td>RU</td>\n      <td>70.81</td>\n      <td>scattered clouds</td>\n      <td>68.7500</td>\n      <td>161.3000</td>\n      <td></td>\n    </tr>\n    <tr>\n      <th>17</th>\n      <td>Kapaa</td>\n      <td>US</td>\n      <td>84.18</td>\n      <td>scattered clouds</td>\n      <td>22.0752</td>\n      <td>-159.3190</td>\n      <td></td>\n    </tr>\n    <tr>\n      <th>21</th>\n      <td>Bucerias</td>\n      <td>MX</td>\n      <td>82.98</td>\n      <td>broken clouds</td>\n      <td>20.7500</td>\n      <td>-105.3333</td>\n      <td></td>\n    </tr>\n    <tr>\n      <th>23</th>\n      <td>Rikitea</td>\n      <td>PF</td>\n      <td>76.10</td>\n      <td>broken clouds</td>\n      <td>-23.1203</td>\n      <td>-134.9692</td>\n      <td></td>\n    </tr>\n    <tr>\n      <th>28</th>\n      <td>Atuona</td>\n      <td>PF</td>\n      <td>79.34</td>\n      <td>few clouds</td>\n      <td>-9.8000</td>\n      <td>-139.0333</td>\n      <td></td>\n    </tr>\n  </tbody>\n</table>\n</div>"
     },
     "metadata": {},
     "execution_count": 8
    }
   ],
   "source": [
    "# 5a. Create DataFrame called hotel_df to store hotel names along with city, country, max temp, and coordinates.\n",
    "hotel_df = clean_df[[\"City\", \"Country\", \"Max Temp\", \"Description\", \"Lat\", \"Lng\"]].copy()\n",
    "\n",
    "# 5b. Create a new column \"Hotel Name\"\n",
    "hotel_df[\"Hotel Name\"] = \"\"\n",
    "hotel_df.head(10)"
   ]
  },
  {
   "cell_type": "code",
   "execution_count": 48,
   "metadata": {},
   "outputs": [],
   "source": []
  },
  {
   "cell_type": "code",
   "execution_count": 9,
   "metadata": {},
   "outputs": [
    {
     "output_type": "stream",
     "name": "stdout",
     "text": [
      "Hotel not found... skipping.\n",
      "Hotel not found... skipping.\n",
      "Hotel not found... skipping.\n",
      "Hotel not found... skipping.\n",
      "Hotel not found... skipping.\n",
      "Hotel not found... skipping.\n",
      "Hotel not found... skipping.\n",
      "Hotel not found... skipping.\n",
      "Hotel not found... skipping.\n",
      "Hotel not found... skipping.\n",
      "Hotel not found... skipping.\n",
      "Hotel not found... skipping.\n",
      "Hotel not found... skipping.\n",
      "Hotel not found... skipping.\n",
      "Hotel not found... skipping.\n",
      "Hotel not found... skipping.\n",
      "Hotel not found... skipping.\n",
      "Hotel not found... skipping.\n",
      "Hotel not found... skipping.\n",
      "Hotel not found... skipping.\n",
      "Hotel not found... skipping.\n",
      "Hotel not found... skipping.\n",
      "Hotel not found... skipping.\n",
      "Hotel not found... skipping.\n",
      "Hotel not found... skipping.\n",
      "Hotel not found... skipping.\n",
      "Hotel not found... skipping.\n",
      "Hotel not found... skipping.\n",
      "Hotel not found... skipping.\n",
      "Hotel not found... skipping.\n",
      "Hotel not found... skipping.\n",
      "Hotel not found... skipping.\n",
      "Hotel not found... skipping.\n"
     ]
    }
   ],
   "source": [
    "# 6a. Set parameters to search for hotels with 5000 meters.\n",
    "params = { \n",
    "    \"radius\": 5000,\n",
    "    \"type\": \"lodging\",\n",
    "    \"key\": g_key\n",
    "}\n",
    "\n",
    "# 6b. Iterate through the hotel DataFrame.\n",
    "for index, row in hotel_df.iterrows():\n",
    "    # 6c. Get latitude and longitude from DataFrame\n",
    "    lat = row[\"Lat\"]\n",
    "    lng = row[\"Lng\"]\n",
    "    params[\"location\"] = f\"{lat},{lng}\"\n",
    "    \n",
    "    # 6d. Set up the base URL for the Google Directions API to get JSON data.\n",
    "    base_url = \"https://maps.googleapis.com/maps/api/place/nearbysearch/json\"\n",
    "    # 6e. Make request and retrieve the JSON data from the search. \n",
    "    hotels = requests.get(base_url, params=params).json()\n",
    "    # 6f. Get the first hotel from the results and store the name, if a hotel isn't found skip the city.\n",
    "    try:\n",
    "        hotel_df.loc[index, \"Hotel Name\"] = hotels[\"results\"][0][\"name\"]\n",
    "    except (IndexError):\n",
    "        print(\"Hotel not found... skipping.\")    \n",
    "        "
   ]
  },
  {
   "cell_type": "code",
   "execution_count": 10,
   "metadata": {},
   "outputs": [
    {
     "output_type": "execute_result",
     "data": {
      "text/plain": [
       "            City Country  Max Temp       Description      Lat       Lng  \\\n",
       "1    Maine-Soroa      NE     86.05   overcast clouds  13.2114   12.0241   \n",
       "6          Akyab      MM     82.09        light rain  20.1500   92.9000   \n",
       "7         Albany      US     73.92        few clouds  42.6001  -73.9662   \n",
       "12        Padang      ID     84.33     broken clouds  -0.9492  100.3543   \n",
       "13      Victoria      HK     87.96  scattered clouds  22.2855  114.1577   \n",
       "14      Cherskiy      RU     70.81  scattered clouds  68.7500  161.3000   \n",
       "17         Kapaa      US     84.18  scattered clouds  22.0752 -159.3190   \n",
       "21      Bucerias      MX     82.98     broken clouds  20.7500 -105.3333   \n",
       "23       Rikitea      PF     76.10     broken clouds -23.1203 -134.9692   \n",
       "28        Atuona      PF     79.34        few clouds  -9.8000 -139.0333   \n",
       "29  Puerto Ayora      EC     72.55        few clouds  -0.7393  -90.3518   \n",
       "32       Pitimbu      BR     75.79     broken clouds  -7.4706  -34.8086   \n",
       "33       Barentu      ER     79.30         clear sky  15.1139   37.5928   \n",
       "36       Kushima      JP     74.71   overcast clouds  31.4583  131.2333   \n",
       "39   Bodden Town      KY     82.40        few clouds  19.2833  -81.2500   \n",
       "40      Bismarck      US     87.64         clear sky  46.8083 -100.7837   \n",
       "41    Butaritari      KI     82.53        light rain   3.0707  172.7902   \n",
       "42          Hilo      US     80.33        light rain  19.7297 -155.0900   \n",
       "45      Souillac      MU     70.36     broken clouds -20.5167   57.5167   \n",
       "46     Oriximina      BR     75.96  scattered clouds  -1.7656  -55.8661   \n",
       "48  Port Hedland      AU     82.45   overcast clouds -20.3167  118.5667   \n",
       "50      Ilhabela      BR     70.45         clear sky -23.7781  -45.3581   \n",
       "54       Mareeba      AU     75.49        few clouds -17.0000  145.4333   \n",
       "56         Yumen      CN     79.92   overcast clouds  40.2833   97.2000   \n",
       "57      La Palma      US     79.02         clear sky  33.8464 -118.0467   \n",
       "58        Dingle      PH     83.07   overcast clouds  10.9995  122.6711   \n",
       "59         Chara      RU     80.28  scattered clouds  56.9064  118.2631   \n",
       "61       Sarakhs      IR     86.14         clear sky  36.5449   61.1577   \n",
       "62    The Valley      AI     80.46   overcast clouds  18.2170  -63.0578   \n",
       "64        Bethel      US     79.92         clear sky  41.3712  -73.4140   \n",
       "\n",
       "                                           Hotel Name  \n",
       "1                                            Complexe  \n",
       "6                                        Hotel Memory  \n",
       "7                                                      \n",
       "12                                     Mercure Padang  \n",
       "13                                 Mini Hotel Central  \n",
       "14                                         Gostinitsa  \n",
       "17                Sheraton Kauai Coconut Beach Resort  \n",
       "21  Villa del Palmar Flamingos Beach Resort & Spa ...  \n",
       "23                                     Pension Maro'i  \n",
       "28                                        Villa Enata  \n",
       "29                          Finch Bay Galapagos Hotel  \n",
       "32                                   Reserva do Abiaí  \n",
       "33                                                     \n",
       "36                                            Hanaoka  \n",
       "39                                       Will T Place  \n",
       "40                  Ramkota Hotel & Conference Center  \n",
       "41                                 Isles Sunset Lodge  \n",
       "42                                Hilo Hawaiian Hotel  \n",
       "45                        Shanti Maurice Resort & Spa  \n",
       "46                                 Pousada Tia Amélia  \n",
       "48                                The Esplanade Hotel  \n",
       "50                                    Ilha Flat Hotel  \n",
       "54                        Trinity Plains Tourist Park  \n",
       "56                                                     \n",
       "57       La Quinta Inn & Suites by Wyndham Buena Park  \n",
       "58                                    SEGAYA PROPERTY  \n",
       "59                                                     \n",
       "61                                مهمان سرای شرکت گاز  \n",
       "62                       CeBlue Villas & Beach Resort  \n",
       "64                      Courtyard by Marriott Danbury  "
      ],
      "text/html": "<div>\n<style scoped>\n    .dataframe tbody tr th:only-of-type {\n        vertical-align: middle;\n    }\n\n    .dataframe tbody tr th {\n        vertical-align: top;\n    }\n\n    .dataframe thead th {\n        text-align: right;\n    }\n</style>\n<table border=\"1\" class=\"dataframe\">\n  <thead>\n    <tr style=\"text-align: right;\">\n      <th></th>\n      <th>City</th>\n      <th>Country</th>\n      <th>Max Temp</th>\n      <th>Description</th>\n      <th>Lat</th>\n      <th>Lng</th>\n      <th>Hotel Name</th>\n    </tr>\n  </thead>\n  <tbody>\n    <tr>\n      <th>1</th>\n      <td>Maine-Soroa</td>\n      <td>NE</td>\n      <td>86.05</td>\n      <td>overcast clouds</td>\n      <td>13.2114</td>\n      <td>12.0241</td>\n      <td>Complexe</td>\n    </tr>\n    <tr>\n      <th>6</th>\n      <td>Akyab</td>\n      <td>MM</td>\n      <td>82.09</td>\n      <td>light rain</td>\n      <td>20.1500</td>\n      <td>92.9000</td>\n      <td>Hotel Memory</td>\n    </tr>\n    <tr>\n      <th>7</th>\n      <td>Albany</td>\n      <td>US</td>\n      <td>73.92</td>\n      <td>few clouds</td>\n      <td>42.6001</td>\n      <td>-73.9662</td>\n      <td></td>\n    </tr>\n    <tr>\n      <th>12</th>\n      <td>Padang</td>\n      <td>ID</td>\n      <td>84.33</td>\n      <td>broken clouds</td>\n      <td>-0.9492</td>\n      <td>100.3543</td>\n      <td>Mercure Padang</td>\n    </tr>\n    <tr>\n      <th>13</th>\n      <td>Victoria</td>\n      <td>HK</td>\n      <td>87.96</td>\n      <td>scattered clouds</td>\n      <td>22.2855</td>\n      <td>114.1577</td>\n      <td>Mini Hotel Central</td>\n    </tr>\n    <tr>\n      <th>14</th>\n      <td>Cherskiy</td>\n      <td>RU</td>\n      <td>70.81</td>\n      <td>scattered clouds</td>\n      <td>68.7500</td>\n      <td>161.3000</td>\n      <td>Gostinitsa</td>\n    </tr>\n    <tr>\n      <th>17</th>\n      <td>Kapaa</td>\n      <td>US</td>\n      <td>84.18</td>\n      <td>scattered clouds</td>\n      <td>22.0752</td>\n      <td>-159.3190</td>\n      <td>Sheraton Kauai Coconut Beach Resort</td>\n    </tr>\n    <tr>\n      <th>21</th>\n      <td>Bucerias</td>\n      <td>MX</td>\n      <td>82.98</td>\n      <td>broken clouds</td>\n      <td>20.7500</td>\n      <td>-105.3333</td>\n      <td>Villa del Palmar Flamingos Beach Resort &amp; Spa ...</td>\n    </tr>\n    <tr>\n      <th>23</th>\n      <td>Rikitea</td>\n      <td>PF</td>\n      <td>76.10</td>\n      <td>broken clouds</td>\n      <td>-23.1203</td>\n      <td>-134.9692</td>\n      <td>Pension Maro'i</td>\n    </tr>\n    <tr>\n      <th>28</th>\n      <td>Atuona</td>\n      <td>PF</td>\n      <td>79.34</td>\n      <td>few clouds</td>\n      <td>-9.8000</td>\n      <td>-139.0333</td>\n      <td>Villa Enata</td>\n    </tr>\n    <tr>\n      <th>29</th>\n      <td>Puerto Ayora</td>\n      <td>EC</td>\n      <td>72.55</td>\n      <td>few clouds</td>\n      <td>-0.7393</td>\n      <td>-90.3518</td>\n      <td>Finch Bay Galapagos Hotel</td>\n    </tr>\n    <tr>\n      <th>32</th>\n      <td>Pitimbu</td>\n      <td>BR</td>\n      <td>75.79</td>\n      <td>broken clouds</td>\n      <td>-7.4706</td>\n      <td>-34.8086</td>\n      <td>Reserva do Abiaí</td>\n    </tr>\n    <tr>\n      <th>33</th>\n      <td>Barentu</td>\n      <td>ER</td>\n      <td>79.30</td>\n      <td>clear sky</td>\n      <td>15.1139</td>\n      <td>37.5928</td>\n      <td></td>\n    </tr>\n    <tr>\n      <th>36</th>\n      <td>Kushima</td>\n      <td>JP</td>\n      <td>74.71</td>\n      <td>overcast clouds</td>\n      <td>31.4583</td>\n      <td>131.2333</td>\n      <td>Hanaoka</td>\n    </tr>\n    <tr>\n      <th>39</th>\n      <td>Bodden Town</td>\n      <td>KY</td>\n      <td>82.40</td>\n      <td>few clouds</td>\n      <td>19.2833</td>\n      <td>-81.2500</td>\n      <td>Will T Place</td>\n    </tr>\n    <tr>\n      <th>40</th>\n      <td>Bismarck</td>\n      <td>US</td>\n      <td>87.64</td>\n      <td>clear sky</td>\n      <td>46.8083</td>\n      <td>-100.7837</td>\n      <td>Ramkota Hotel &amp; Conference Center</td>\n    </tr>\n    <tr>\n      <th>41</th>\n      <td>Butaritari</td>\n      <td>KI</td>\n      <td>82.53</td>\n      <td>light rain</td>\n      <td>3.0707</td>\n      <td>172.7902</td>\n      <td>Isles Sunset Lodge</td>\n    </tr>\n    <tr>\n      <th>42</th>\n      <td>Hilo</td>\n      <td>US</td>\n      <td>80.33</td>\n      <td>light rain</td>\n      <td>19.7297</td>\n      <td>-155.0900</td>\n      <td>Hilo Hawaiian Hotel</td>\n    </tr>\n    <tr>\n      <th>45</th>\n      <td>Souillac</td>\n      <td>MU</td>\n      <td>70.36</td>\n      <td>broken clouds</td>\n      <td>-20.5167</td>\n      <td>57.5167</td>\n      <td>Shanti Maurice Resort &amp; Spa</td>\n    </tr>\n    <tr>\n      <th>46</th>\n      <td>Oriximina</td>\n      <td>BR</td>\n      <td>75.96</td>\n      <td>scattered clouds</td>\n      <td>-1.7656</td>\n      <td>-55.8661</td>\n      <td>Pousada Tia Amélia</td>\n    </tr>\n    <tr>\n      <th>48</th>\n      <td>Port Hedland</td>\n      <td>AU</td>\n      <td>82.45</td>\n      <td>overcast clouds</td>\n      <td>-20.3167</td>\n      <td>118.5667</td>\n      <td>The Esplanade Hotel</td>\n    </tr>\n    <tr>\n      <th>50</th>\n      <td>Ilhabela</td>\n      <td>BR</td>\n      <td>70.45</td>\n      <td>clear sky</td>\n      <td>-23.7781</td>\n      <td>-45.3581</td>\n      <td>Ilha Flat Hotel</td>\n    </tr>\n    <tr>\n      <th>54</th>\n      <td>Mareeba</td>\n      <td>AU</td>\n      <td>75.49</td>\n      <td>few clouds</td>\n      <td>-17.0000</td>\n      <td>145.4333</td>\n      <td>Trinity Plains Tourist Park</td>\n    </tr>\n    <tr>\n      <th>56</th>\n      <td>Yumen</td>\n      <td>CN</td>\n      <td>79.92</td>\n      <td>overcast clouds</td>\n      <td>40.2833</td>\n      <td>97.2000</td>\n      <td></td>\n    </tr>\n    <tr>\n      <th>57</th>\n      <td>La Palma</td>\n      <td>US</td>\n      <td>79.02</td>\n      <td>clear sky</td>\n      <td>33.8464</td>\n      <td>-118.0467</td>\n      <td>La Quinta Inn &amp; Suites by Wyndham Buena Park</td>\n    </tr>\n    <tr>\n      <th>58</th>\n      <td>Dingle</td>\n      <td>PH</td>\n      <td>83.07</td>\n      <td>overcast clouds</td>\n      <td>10.9995</td>\n      <td>122.6711</td>\n      <td>SEGAYA PROPERTY</td>\n    </tr>\n    <tr>\n      <th>59</th>\n      <td>Chara</td>\n      <td>RU</td>\n      <td>80.28</td>\n      <td>scattered clouds</td>\n      <td>56.9064</td>\n      <td>118.2631</td>\n      <td></td>\n    </tr>\n    <tr>\n      <th>61</th>\n      <td>Sarakhs</td>\n      <td>IR</td>\n      <td>86.14</td>\n      <td>clear sky</td>\n      <td>36.5449</td>\n      <td>61.1577</td>\n      <td>مهمان سرای شرکت گاز</td>\n    </tr>\n    <tr>\n      <th>62</th>\n      <td>The Valley</td>\n      <td>AI</td>\n      <td>80.46</td>\n      <td>overcast clouds</td>\n      <td>18.2170</td>\n      <td>-63.0578</td>\n      <td>CeBlue Villas &amp; Beach Resort</td>\n    </tr>\n    <tr>\n      <th>64</th>\n      <td>Bethel</td>\n      <td>US</td>\n      <td>79.92</td>\n      <td>clear sky</td>\n      <td>41.3712</td>\n      <td>-73.4140</td>\n      <td>Courtyard by Marriott Danbury</td>\n    </tr>\n  </tbody>\n</table>\n</div>"
     },
     "metadata": {},
     "execution_count": 10
    }
   ],
   "source": [
    "hotel_df.head(30)"
   ]
  },
  {
   "cell_type": "code",
   "execution_count": 11,
   "metadata": {},
   "outputs": [
    {
     "output_type": "execute_result",
     "data": {
      "text/plain": [
       "           City Country  Max Temp       Description      Lat       Lng  \\\n",
       "1   Maine-Soroa      NE     86.05   overcast clouds  13.2114   12.0241   \n",
       "6         Akyab      MM     82.09        light rain  20.1500   92.9000   \n",
       "7        Albany      US     73.92        few clouds  42.6001  -73.9662   \n",
       "12       Padang      ID     84.33     broken clouds  -0.9492  100.3543   \n",
       "13     Victoria      HK     87.96  scattered clouds  22.2855  114.1577   \n",
       "14     Cherskiy      RU     70.81  scattered clouds  68.7500  161.3000   \n",
       "17        Kapaa      US     84.18  scattered clouds  22.0752 -159.3190   \n",
       "21     Bucerias      MX     82.98     broken clouds  20.7500 -105.3333   \n",
       "23      Rikitea      PF     76.10     broken clouds -23.1203 -134.9692   \n",
       "28       Atuona      PF     79.34        few clouds  -9.8000 -139.0333   \n",
       "\n",
       "                                           Hotel Name  \n",
       "1                                            Complexe  \n",
       "6                                        Hotel Memory  \n",
       "7                                                      \n",
       "12                                     Mercure Padang  \n",
       "13                                 Mini Hotel Central  \n",
       "14                                         Gostinitsa  \n",
       "17                Sheraton Kauai Coconut Beach Resort  \n",
       "21  Villa del Palmar Flamingos Beach Resort & Spa ...  \n",
       "23                                     Pension Maro'i  \n",
       "28                                        Villa Enata  "
      ],
      "text/html": "<div>\n<style scoped>\n    .dataframe tbody tr th:only-of-type {\n        vertical-align: middle;\n    }\n\n    .dataframe tbody tr th {\n        vertical-align: top;\n    }\n\n    .dataframe thead th {\n        text-align: right;\n    }\n</style>\n<table border=\"1\" class=\"dataframe\">\n  <thead>\n    <tr style=\"text-align: right;\">\n      <th></th>\n      <th>City</th>\n      <th>Country</th>\n      <th>Max Temp</th>\n      <th>Description</th>\n      <th>Lat</th>\n      <th>Lng</th>\n      <th>Hotel Name</th>\n    </tr>\n  </thead>\n  <tbody>\n    <tr>\n      <th>1</th>\n      <td>Maine-Soroa</td>\n      <td>NE</td>\n      <td>86.05</td>\n      <td>overcast clouds</td>\n      <td>13.2114</td>\n      <td>12.0241</td>\n      <td>Complexe</td>\n    </tr>\n    <tr>\n      <th>6</th>\n      <td>Akyab</td>\n      <td>MM</td>\n      <td>82.09</td>\n      <td>light rain</td>\n      <td>20.1500</td>\n      <td>92.9000</td>\n      <td>Hotel Memory</td>\n    </tr>\n    <tr>\n      <th>7</th>\n      <td>Albany</td>\n      <td>US</td>\n      <td>73.92</td>\n      <td>few clouds</td>\n      <td>42.6001</td>\n      <td>-73.9662</td>\n      <td></td>\n    </tr>\n    <tr>\n      <th>12</th>\n      <td>Padang</td>\n      <td>ID</td>\n      <td>84.33</td>\n      <td>broken clouds</td>\n      <td>-0.9492</td>\n      <td>100.3543</td>\n      <td>Mercure Padang</td>\n    </tr>\n    <tr>\n      <th>13</th>\n      <td>Victoria</td>\n      <td>HK</td>\n      <td>87.96</td>\n      <td>scattered clouds</td>\n      <td>22.2855</td>\n      <td>114.1577</td>\n      <td>Mini Hotel Central</td>\n    </tr>\n    <tr>\n      <th>14</th>\n      <td>Cherskiy</td>\n      <td>RU</td>\n      <td>70.81</td>\n      <td>scattered clouds</td>\n      <td>68.7500</td>\n      <td>161.3000</td>\n      <td>Gostinitsa</td>\n    </tr>\n    <tr>\n      <th>17</th>\n      <td>Kapaa</td>\n      <td>US</td>\n      <td>84.18</td>\n      <td>scattered clouds</td>\n      <td>22.0752</td>\n      <td>-159.3190</td>\n      <td>Sheraton Kauai Coconut Beach Resort</td>\n    </tr>\n    <tr>\n      <th>21</th>\n      <td>Bucerias</td>\n      <td>MX</td>\n      <td>82.98</td>\n      <td>broken clouds</td>\n      <td>20.7500</td>\n      <td>-105.3333</td>\n      <td>Villa del Palmar Flamingos Beach Resort &amp; Spa ...</td>\n    </tr>\n    <tr>\n      <th>23</th>\n      <td>Rikitea</td>\n      <td>PF</td>\n      <td>76.10</td>\n      <td>broken clouds</td>\n      <td>-23.1203</td>\n      <td>-134.9692</td>\n      <td>Pension Maro'i</td>\n    </tr>\n    <tr>\n      <th>28</th>\n      <td>Atuona</td>\n      <td>PF</td>\n      <td>79.34</td>\n      <td>few clouds</td>\n      <td>-9.8000</td>\n      <td>-139.0333</td>\n      <td>Villa Enata</td>\n    </tr>\n  </tbody>\n</table>\n</div>"
     },
     "metadata": {},
     "execution_count": 11
    }
   ],
   "source": [
    "# 7. Drop the rows where there is no Hotel Name.\n",
    "clean_hotel_df = hotel_df.dropna()\n",
    "\n",
    "clean_hotel_df.head(10)"
   ]
  },
  {
   "cell_type": "code",
   "execution_count": 12,
   "metadata": {},
   "outputs": [],
   "source": [
    "# 8a. Create the output File (CSV)\n",
    "output_data_file = \"../Vacation_Search/WeatherPy_Vacation.csv\"\n",
    "# 8b. Export the City_Data into a csv\n",
    "clean_hotel_df.to_csv(output_data_file, index_label=\"City_ID\")"
   ]
  },
  {
   "cell_type": "code",
   "execution_count": 13,
   "metadata": {},
   "outputs": [],
   "source": [
    "# 9. Using the template add city name, the country code, the weather description and maximum temperature for the city.\n",
    "info_box_template = \"\"\"\n",
    "<dl>\n",
    "<dt>Hotel Name</dt><dd>{Hotel Name}</dd>\n",
    "<dt>City</dt><dd>{City}</dd>\n",
    "<dt>Country</dt><dd>{Country}</dd>\n",
    "<dt>Description</dt><dd>{Description}</dd>\n",
    "<dt>Max Temp</dt><dd>{Max Temp} °F</dd>\n",
    "</dl>\n",
    "\"\"\"\n",
    "# 10a. Get the data from each row and add it to the formatting template and store the data in a list.\n",
    "hotel_info = [info_box_template.format(**row) for index, row in clean_hotel_df.iterrows()]\n",
    "\n",
    "# 10b. Get the latitude and longitude from each row and store in a new DataFrame.\n",
    "locations = clean_hotel_df[[\"Lat\", \"Lng\"]]\n",
    "max_temp = hotel_df[\"Max Temp\"]"
   ]
  },
  {
   "cell_type": "code",
   "execution_count": 15,
   "metadata": {},
   "outputs": [
    {
     "output_type": "display_data",
     "data": {
      "text/plain": "Figure(layout=FigureLayout(height='900px', width='900'))",
      "application/vnd.jupyter.widget-view+json": {
       "version_major": 2,
       "version_minor": 0,
       "model_id": "598e2cc6646a4aa2bd18e93c317722b3"
      }
     },
     "metadata": {}
    }
   ],
   "source": [
    "# 11a. Add a marker layer for each city to the map. \n",
    "fig = gmaps.figure(center=(30.0, 31.0), zoom_level=1.5)\n",
    "fig = gmaps.figure(layout={'width': '900', 'height': '900px'}) \n",
    "#heat_layer = gmaps.heatmap_layer(locations, weights=max_temp,dissipating=False,\n",
    " #            max_intensity=300, point_radius=4)\n",
    "marker_layer = gmaps.marker_layer(locations, info_box_content=hotel_info)\n",
    "#fig.add_layer(heat_layer)\n",
    "fig.add_layer(marker_layer)\n",
    "\n",
    "# 11b. Display the figure\n",
    "fig"
   ]
  },
  {
   "cell_type": "code",
   "execution_count": null,
   "metadata": {},
   "outputs": [],
   "source": []
  },
  {
   "cell_type": "code",
   "execution_count": null,
   "metadata": {},
   "outputs": [],
   "source": []
  }
 ],
 "metadata": {
  "kernelspec": {
   "name": "python385jvsc74a57bd0c72a629dba5ae9edebcad565c17c3988d814021371aabb3db62cb04d2b10dbfe",
   "display_name": "Python 3.8.5 64-bit ('base': conda)"
  },
  "language_info": {
   "codemirror_mode": {
    "name": "ipython",
    "version": 3
   },
   "file_extension": ".py",
   "mimetype": "text/x-python",
   "name": "python",
   "nbconvert_exporter": "python",
   "pygments_lexer": "ipython3",
   "version": "3.8.5"
  },
  "latex_envs": {
   "LaTeX_envs_menu_present": true,
   "autoclose": false,
   "autocomplete": true,
   "bibliofile": "biblio.bib",
   "cite_by": "apalike",
   "current_citInitial": 1,
   "eqLabelWithNumbers": true,
   "eqNumInitial": 1,
   "hotkeys": {
    "equation": "Ctrl-E",
    "itemize": "Ctrl-I"
   },
   "labels_anchors": false,
   "latex_user_defs": false,
   "report_style_numbering": false,
   "user_envs_cfg": false
  }
 },
 "nbformat": 4,
 "nbformat_minor": 2
}